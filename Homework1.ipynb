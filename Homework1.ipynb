{
 "cells": [
  {
   "cell_type": "markdown",
   "id": "d4c47586",
   "metadata": {},
   "source": [
    "1. Из колоды в 52 карты извлекаются случайным образом 4 карты. a) Найти вероятность того, что все карты – крести."
   ]
  },
  {
   "cell_type": "code",
   "execution_count": 1,
   "id": "e69af636",
   "metadata": {},
   "outputs": [],
   "source": [
    "import numpy as np\n",
    "from math import factorial"
   ]
  },
  {
   "cell_type": "code",
   "execution_count": 3,
   "id": "f88157c8",
   "metadata": {},
   "outputs": [],
   "source": [
    "def combinations(n, k):\n",
    "    return int(factorial(n)/ (factorial(k) * factorial(n - k)))"
   ]
  },
  {
   "cell_type": "code",
   "execution_count": 4,
   "id": "0182eefd",
   "metadata": {},
   "outputs": [
    {
     "data": {
      "text/plain": [
       "270725"
      ]
     },
     "execution_count": 4,
     "metadata": {},
     "output_type": "execute_result"
    }
   ],
   "source": [
    "general_ends = combinations(52, 4)\n",
    "general_ends"
   ]
  },
  {
   "cell_type": "code",
   "execution_count": 5,
   "id": "8142fa96",
   "metadata": {},
   "outputs": [
    {
     "name": "stdout",
     "output_type": "stream",
     "text": [
      "Вероятность того, что все карты – крести равна 0.0026410564225690276 или около 0.3 %\n"
     ]
    }
   ],
   "source": [
    "club4 = combinations(13, 4)\n",
    "P1 = club4/general_ends\n",
    "P11 = float('{:.1f}'.format(P1*100))\n",
    "print('Вероятность того, что все карты – крести равна {} или около {} %'.format(P1, P11))"
   ]
  },
  {
   "cell_type": "markdown",
   "id": "c1df8f62",
   "metadata": {},
   "source": [
    "б) Найти вероятность, что среди 4-х карт окажется хотя бы один туз."
   ]
  },
  {
   "cell_type": "code",
   "execution_count": 6,
   "id": "6235535a",
   "metadata": {},
   "outputs": [
    {
     "name": "stdout",
     "output_type": "stream",
     "text": [
      "Вероятность того, что среди 4-х карт окажется хотя бы один туз равна 0.25555083571890297 или около 25.6 %\n"
     ]
    }
   ],
   "source": [
    "ace1 = combinations(4, 1)\n",
    "ace1\n",
    "other3 = combinations(48, 3)\n",
    "other3\n",
    "C1 = ace1 * other3\n",
    "P2 = C1/general_ends\n",
    "P21 = float('{:.1f}'.format(P2*100))\n",
    "print('Вероятность того, что среди 4-х карт окажется хотя бы один туз равна {} или около {} %'.format(P2, P21))"
   ]
  },
  {
   "cell_type": "markdown",
   "id": "9b26cef0",
   "metadata": {},
   "source": [
    "2.На входной двери подъезда установлен кодовый замок, содержащий десять кнопок с цифрами от 0 до 9. Код содержит три цифры, которые нужно нажать одновременно. Какова вероятность того, что человек, не знающий код, откроет дверь с первой попытки?"
   ]
  },
  {
   "cell_type": "code",
   "execution_count": 7,
   "id": "9e35575e",
   "metadata": {},
   "outputs": [
    {
     "name": "stdout",
     "output_type": "stream",
     "text": [
      "Вероятность того, что человек, не знающий код, откроет дверь с первой попытки равна 0.008333333333333333 или около 0.8 %\n"
     ]
    }
   ],
   "source": [
    "possib_num3 = combinations(10, 3)\n",
    "try1 = 1/possib_num3\n",
    "try1_per = ('{:.1f}'.format(try1*100))\n",
    "print('Вероятность того, что человек, не знающий код, откроет дверь с первой попытки равна {} или около {} %'.format(try1, try1_per))"
   ]
  },
  {
   "cell_type": "markdown",
   "id": "f4c9e4f6",
   "metadata": {},
   "source": [
    "3.В ящике имеется 15 деталей, из которых 9 окрашены. Рабочий случайным образом извлекает 3 детали. Какова вероятность того, что все извлеченные детали окрашены?"
   ]
  },
  {
   "cell_type": "code",
   "execution_count": 8,
   "id": "0ff73670",
   "metadata": {},
   "outputs": [
    {
     "name": "stdout",
     "output_type": "stream",
     "text": [
      "Вероятность того, что все извлеченные детали окрашены равна 0.18461538461538463 или около 18.5 %\n"
     ]
    }
   ],
   "source": [
    "color_possib = combinations(9, 3)\n",
    "general_possib_feat = combinations(15, 3)\n",
    "possib_3 = color_possib/general_possib_feat\n",
    "possib_3_per = float('{:.1f}'.format(possib_3*100))\n",
    "print('Вероятность того, что все извлеченные детали окрашены равна {} или около {} %'.format(possib_3, possib_3_per))"
   ]
  },
  {
   "cell_type": "markdown",
   "id": "c1ec33c2",
   "metadata": {},
   "source": [
    "4.В лотерее 100 билетов. Из них 2 выигрышных. Какова вероятность того, что 2 приобретенных билета окажутся выигрышными?"
   ]
  },
  {
   "cell_type": "code",
   "execution_count": 9,
   "id": "e5b3e29d",
   "metadata": {},
   "outputs": [
    {
     "name": "stdout",
     "output_type": "stream",
     "text": [
      "Вероятность того, что 2 приобретенных билета окажутся выигрышными равна 0.00020202020202020202 или около 0.02 %\n"
     ]
    }
   ],
   "source": [
    "win = combinations(2, 2)\n",
    "gen_possib = combinations(100, 2)\n",
    "possib_2 = win/gen_possib\n",
    "possib_2_per = float('{:.2f}'.format(possib_2*100))\n",
    "print('Вероятность того, что 2 приобретенных билета окажутся выигрышными равна {} или около {} %'.format(possib_2, possib_2_per))"
   ]
  },
  {
   "cell_type": "code",
   "execution_count": null,
   "id": "a3d1e345",
   "metadata": {},
   "outputs": [],
   "source": []
  }
 ],
 "metadata": {
  "kernelspec": {
   "display_name": "Python 3 (ipykernel)",
   "language": "python",
   "name": "python3"
  },
  "language_info": {
   "codemirror_mode": {
    "name": "ipython",
    "version": 3
   },
   "file_extension": ".py",
   "mimetype": "text/x-python",
   "name": "python",
   "nbconvert_exporter": "python",
   "pygments_lexer": "ipython3",
   "version": "3.9.7"
  }
 },
 "nbformat": 4,
 "nbformat_minor": 5
}
